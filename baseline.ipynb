{
 "cells": [
  {
   "cell_type": "code",
   "execution_count": 1,
   "metadata": {
    "ExecuteTime": {
     "end_time": "2017-03-30T16:17:27.089010",
     "start_time": "2017-03-30T16:17:26.322421"
    },
    "collapsed": false,
    "run_control": {
     "frozen": false,
     "read_only": false
    }
   },
   "outputs": [],
   "source": [
    "%matplotlib inline\n",
    "import pandas as pd\n",
    "import numpy as np\n",
    "\n",
    "from scipy import sparse as sp\n",
    "from scipy.sparse import coo_matrix\n",
    "from sklearn.preprocessing import LabelEncoder\n",
    "from sklearn.neighbors import NearestNeighbors"
   ]
  },
  {
   "cell_type": "code",
   "execution_count": 2,
   "metadata": {
    "ExecuteTime": {
     "end_time": "2017-03-30T16:17:58.910706",
     "start_time": "2017-03-30T16:17:27.093114"
    },
    "collapsed": false,
    "run_control": {
     "frozen": false,
     "read_only": false
    }
   },
   "outputs": [
    {
     "name": "stdout",
     "output_type": "stream",
     "text": [
      "(31795064, 4)\n"
     ]
    }
   ],
   "source": [
    "train_full = pd.read_csv('./data/train.csv')\n",
    "print(train_full.shape)"
   ]
  },
  {
   "cell_type": "code",
   "execution_count": 3,
   "metadata": {
    "ExecuteTime": {
     "end_time": "2017-03-30T16:18:05.351161",
     "start_time": "2017-03-30T16:17:58.912370"
    },
    "collapsed": false,
    "run_control": {
     "frozen": false,
     "read_only": false
    }
   },
   "outputs": [
    {
     "name": "stdout",
     "output_type": "stream",
     "text": [
      "(5436440, 9)\n"
     ]
    }
   ],
   "source": [
    "item_data = pd.read_csv('./data/item_data.csv')\n",
    "print(item_data.shape)"
   ]
  },
  {
   "cell_type": "code",
   "execution_count": 4,
   "metadata": {
    "ExecuteTime": {
     "end_time": "2017-03-30T16:18:05.380884",
     "start_time": "2017-03-30T16:18:05.352752"
    },
    "collapsed": false,
    "run_control": {
     "frozen": false,
     "read_only": false
    }
   },
   "outputs": [
    {
     "name": "stdout",
     "output_type": "stream",
     "text": [
      "(100000, 1)\n"
     ]
    }
   ],
   "source": [
    "test_users = pd.read_csv('./data/test_users.csv')\n",
    "print(test_users.shape)"
   ]
  },
  {
   "cell_type": "markdown",
   "metadata": {
    "run_control": {
     "frozen": false,
     "read_only": false
    }
   },
   "source": [
    "# 1. Data preparation "
   ]
  },
  {
   "cell_type": "code",
   "execution_count": 5,
   "metadata": {
    "ExecuteTime": {
     "end_time": "2017-03-30T16:18:13.729213",
     "start_time": "2017-03-30T16:18:05.383429"
    },
    "collapsed": false,
    "run_control": {
     "frozen": false,
     "read_only": false
    }
   },
   "outputs": [],
   "source": [
    "# label encode user_id & microcat_id for sparse matrix construction\n",
    "mc_le = LabelEncoder()\n",
    "uid_le = LabelEncoder()\n",
    "\n",
    "train_full.user_id = uid_le.fit_transform(train_full.user_id)\n",
    "item_data.microcat_id = mc_le.fit_transform(item_data.microcat_id)"
   ]
  },
  {
   "cell_type": "code",
   "execution_count": 6,
   "metadata": {
    "ExecuteTime": {
     "end_time": "2017-03-30T16:20:46.776223",
     "start_time": "2017-03-30T16:18:13.730914"
    },
    "collapsed": false,
    "run_control": {
     "frozen": false,
     "read_only": false
    }
   },
   "outputs": [
    {
     "name": "stdout",
     "output_type": "stream",
     "text": [
      "(27259520, 4) (2938292, 4)\n"
     ]
    }
   ],
   "source": [
    "# split all data into train & validation\n",
    "train = train_full[train_full.event_date < '2017-02-21 00:00:00']\n",
    "\n",
    "# drop user/item pairs present in train from validation\n",
    "train_copy = train_full.copy()\n",
    "train_copy.sort_values(by='event_date', inplace=True)\n",
    "train_copy.drop_duplicates(subset=['user_id', 'item_id'], inplace=True)\n",
    "validation = train_copy[train_copy.event_date > '2017-02-21 00:00:00']\n",
    "print(train.shape, validation.shape)\n",
    "del train_copy"
   ]
  },
  {
   "cell_type": "code",
   "execution_count": 7,
   "metadata": {
    "ExecuteTime": {
     "end_time": "2017-03-30T16:20:46.785789",
     "start_time": "2017-03-30T16:20:46.778029"
    },
    "collapsed": false,
    "run_control": {
     "frozen": false,
     "read_only": false
    }
   },
   "outputs": [],
   "source": [
    "def create_train_matrix(train, item_data):\n",
    "    ''' Transform clickstream to user-microcat sparse matrix '''\n",
    "    # merge with item data to get microcat ids of interactions\n",
    "    train_mc = train.merge(item_data[['item_id', 'microcat_id']])\n",
    "    \n",
    "    # get counts of user/microcat interactions\n",
    "    train_mc_cnt = train_mc.groupby(['user_id', 'microcat_id']).apply(len).reset_index().rename(columns={0: 'cnt'})\n",
    "    \n",
    "    # create sparse matrix of user-microcat iterests\n",
    "    user_microcat = coo_matrix((train_mc_cnt.cnt, (train_mc_cnt.user_id, train_mc_cnt.microcat_id))).tocsr()\n",
    "    \n",
    "    return user_microcat\n",
    "    "
   ]
  },
  {
   "cell_type": "code",
   "execution_count": 8,
   "metadata": {
    "ExecuteTime": {
     "end_time": "2017-03-30T16:21:52.344738",
     "start_time": "2017-03-30T16:20:46.787582"
    },
    "collapsed": false,
    "run_control": {
     "frozen": false,
     "read_only": false
    }
   },
   "outputs": [],
   "source": [
    "user_microcat = create_train_matrix(train, item_data)"
   ]
  },
  {
   "cell_type": "code",
   "execution_count": 9,
   "metadata": {
    "ExecuteTime": {
     "end_time": "2017-03-30T16:21:53.742863",
     "start_time": "2017-03-30T16:21:52.346612"
    },
    "collapsed": false,
    "run_control": {
     "frozen": false,
     "read_only": false
    }
   },
   "outputs": [],
   "source": [
    "# set weight for each eventtype according to rules\n",
    "event_weigts = {57: 1, 15: 2, 25: 2, 36: 5}\n",
    "validation.is_copy = False\n",
    "validation.loc[:, 'weight'] = validation.eventtype_id.apply(lambda x: event_weigts.get(x, 0))"
   ]
  },
  {
   "cell_type": "markdown",
   "metadata": {
    "run_control": {
     "frozen": false,
     "read_only": false
    }
   },
   "source": [
    "# 2. Making recommendations "
   ]
  },
  {
   "cell_type": "code",
   "execution_count": 10,
   "metadata": {
    "ExecuteTime": {
     "end_time": "2017-03-30T16:21:53.774111",
     "start_time": "2017-03-30T16:21:53.744481"
    },
    "collapsed": false,
    "run_control": {
     "frozen": false,
     "read_only": false
    }
   },
   "outputs": [],
   "source": [
    "class NearestNeighborsRecommender():\n",
    "    def __init__(self, data, n_neighbors, max_recs_per_user, metric, batch_size):\n",
    "        self.data = data\n",
    "        self.n_neighbors = n_neighbors\n",
    "        self.max_recs_per_user = max_recs_per_user\n",
    "        self.metric = metric\n",
    "        self.batch_size = batch_size\n",
    "        self.nn_model = NearestNeighbors(n_neighbors=self.n_neighbors, metric=self.metric, algorithm='brute')\n",
    "        self.nn_model.fit(self.data)\n",
    "        \n",
    "    def _get_similar_users(self, user_ids):\n",
    "        '''\n",
    "        Create dataframe with 3 columns: \n",
    "            target_user_id - user we want to make recommendations for\n",
    "            user_id - most similar users to target user\n",
    "            score - user similarity (1 - cosine_distance)\n",
    "        '''\n",
    "        users = self.data[user_ids, :]\n",
    "        df = pd.DataFrame({'target_user_id': np.repeat(user_ids, self.nn_model.n_neighbors-1)})\n",
    "        neighbors = self.nn_model.kneighbors(users)\n",
    "        df['user_id'] = neighbors[1][:, 1:].flatten()\n",
    "        df['score'] = 1-neighbors[0][:, 1:].flatten()\n",
    "        return df\n",
    "        \n",
    "    def get_similar_users(self, user_ids):\n",
    "        ''' \n",
    "        Batch version of similar users.\n",
    "        Helps to avoid huge memory overhead but slightly increases working time\n",
    "        '''\n",
    "        num_batches = np.ceil(len(user_ids) / self.batch_size).astype(int)\n",
    "        dfs = [self._get_similar_users(batch) for batch in np.array_split(user_ids, num_batches)]\n",
    "        return pd.concat(dfs)\n",
    "    \n",
    "    def recommend_items(self, user_ids, user_items, test_items):\n",
    "        ''' \n",
    "        Create recommendations for users based on item interactions of similar users:\n",
    "        - choose all items similar users iteracted with\n",
    "        - sort them by user similarity and event_date\n",
    "        - include only test_items\n",
    "        '''\n",
    "        similar_users = self.get_similar_users(user_ids)\n",
    "        recs = pd.merge(user_items, similar_users) \\\n",
    "            .sort_values(by=['score', 'event_date'], ascending=False) \\\n",
    "            .merge(test_items).drop_duplicates(subset=['target_user_id', 'item_id'])\n",
    "        recs['rank'] = recs.groupby('target_user_id').cumcount()\n",
    "        recs = recs[recs['rank'] < self.max_recs_per_user]\n",
    "        return recs[['target_user_id', 'item_id']].rename(columns={'target_user_id': 'user_id'})\n",
    "\n"
   ]
  },
  {
   "cell_type": "code",
   "execution_count": 11,
   "metadata": {
    "ExecuteTime": {
     "end_time": "2017-03-30T16:21:58.673277",
     "start_time": "2017-03-30T16:21:53.775797"
    },
    "collapsed": false,
    "run_control": {
     "frozen": false,
     "read_only": false
    }
   },
   "outputs": [],
   "source": [
    "# select users present in both train and validation\n",
    "val_users = list(set(train.user_id).intersection(validation.user_id.unique()))\n",
    "user_ids = np.random.choice(val_users, 10000, replace=False)"
   ]
  },
  {
   "cell_type": "code",
   "execution_count": 12,
   "metadata": {
    "ExecuteTime": {
     "end_time": "2017-03-30T16:21:59.148893",
     "start_time": "2017-03-30T16:21:58.675152"
    },
    "collapsed": false,
    "run_control": {
     "frozen": false,
     "read_only": false
    }
   },
   "outputs": [],
   "source": [
    "# restrict recommended items with items from test only\n",
    "val_items = validation[['item_id']].drop_duplicates()"
   ]
  },
  {
   "cell_type": "code",
   "execution_count": 13,
   "metadata": {
    "ExecuteTime": {
     "end_time": "2017-03-30T16:21:59.200371",
     "start_time": "2017-03-30T16:21:59.150534"
    },
    "collapsed": false,
    "run_control": {
     "frozen": false,
     "read_only": false
    }
   },
   "outputs": [],
   "source": [
    "nnr = NearestNeighborsRecommender(user_microcat, 21, 50, 'cosine', 100)"
   ]
  },
  {
   "cell_type": "code",
   "execution_count": 14,
   "metadata": {
    "ExecuteTime": {
     "end_time": "2017-03-30T16:25:22.719317",
     "start_time": "2017-03-30T16:21:59.202099"
    },
    "collapsed": false,
    "run_control": {
     "frozen": false,
     "read_only": false
    }
   },
   "outputs": [],
   "source": [
    "recs = nnr.recommend_items(user_ids, train, val_items)"
   ]
  },
  {
   "cell_type": "code",
   "execution_count": 15,
   "metadata": {
    "ExecuteTime": {
     "end_time": "2017-03-30T16:25:23.562590",
     "start_time": "2017-03-30T16:25:22.720895"
    },
    "collapsed": false,
    "run_control": {
     "frozen": false,
     "read_only": false
    }
   },
   "outputs": [],
   "source": [
    "test_items = item_data[item_data.active_during_test==1][['item_id']]"
   ]
  },
  {
   "cell_type": "markdown",
   "metadata": {
    "run_control": {
     "frozen": false,
     "read_only": false
    }
   },
   "source": [
    "# 3. Evaluation "
   ]
  },
  {
   "cell_type": "code",
   "execution_count": 16,
   "metadata": {
    "ExecuteTime": {
     "end_time": "2017-03-30T16:25:26.260904",
     "start_time": "2017-03-30T16:25:26.255441"
    },
    "collapsed": false,
    "run_control": {
     "frozen": false,
     "read_only": false
    }
   },
   "outputs": [],
   "source": [
    "def create_random_recs(user_ids, item_ids, max_recs_per_user):\n",
    "    users = np.repeat(user_ids, max_recs_per_user)\n",
    "    items = np.random.choice(item_ids, len(user_ids)*max_recs_per_user)\n",
    "    recs = pd.DataFrame({'user_id': users, 'item_id': items})\n",
    "    return recs\n",
    "        "
   ]
  },
  {
   "cell_type": "code",
   "execution_count": 17,
   "metadata": {
    "ExecuteTime": {
     "end_time": "2017-03-30T16:25:26.589019",
     "start_time": "2017-03-30T16:25:26.583523"
    },
    "collapsed": false,
    "run_control": {
     "frozen": false,
     "read_only": false
    }
   },
   "outputs": [],
   "source": [
    "def score_predictions(true, pred):\n",
    "    \"\"\"\n",
    "    Score is a weighted sum of matching (user, item) pairs.\n",
    "    Weights are based on eventtype: view - 1, contact - 5, favorite - 2, message - 2.\n",
    "    \"\"\"\n",
    "    score = pd.merge(true.drop_duplicates(subset=['user_id', 'item_id']), pred.drop_duplicates(subset=['user_id', 'item_id']))['weight'].sum()\n",
    "    return score"
   ]
  },
  {
   "cell_type": "code",
   "execution_count": 18,
   "metadata": {
    "ExecuteTime": {
     "end_time": "2017-03-30T16:25:27.391344",
     "start_time": "2017-03-30T16:25:27.031729"
    },
    "collapsed": false,
    "run_control": {
     "frozen": false,
     "read_only": false
    }
   },
   "outputs": [],
   "source": [
    "true = pd.merge(validation, pd.DataFrame({'user_id': user_ids}))"
   ]
  },
  {
   "cell_type": "code",
   "execution_count": 19,
   "metadata": {
    "ExecuteTime": {
     "end_time": "2017-03-30T16:25:28.208254",
     "start_time": "2017-03-30T16:25:27.871809"
    },
    "collapsed": false,
    "run_control": {
     "frozen": false,
     "read_only": false
    }
   },
   "outputs": [
    {
     "data": {
      "text/plain": [
       "404"
      ]
     },
     "execution_count": 19,
     "metadata": {},
     "output_type": "execute_result"
    }
   ],
   "source": [
    "score_predictions(true, recs)"
   ]
  },
  {
   "cell_type": "code",
   "execution_count": 20,
   "metadata": {
    "ExecuteTime": {
     "end_time": "2017-03-30T16:25:29.173766",
     "start_time": "2017-03-30T16:25:28.831608"
    },
    "collapsed": false,
    "run_control": {
     "frozen": false,
     "read_only": false
    }
   },
   "outputs": [
    {
     "data": {
      "text/plain": [
       "6"
      ]
     },
     "execution_count": 20,
     "metadata": {},
     "output_type": "execute_result"
    }
   ],
   "source": [
    "score_predictions(true, create_random_recs(user_ids, val_items.item_id, 50))"
   ]
  },
  {
   "cell_type": "markdown",
   "metadata": {
    "collapsed": true,
    "run_control": {
     "frozen": false,
     "read_only": false
    }
   },
   "source": [
    "# 4. Train on all data and make a submission. "
   ]
  },
  {
   "cell_type": "code",
   "execution_count": 21,
   "metadata": {
    "ExecuteTime": {
     "end_time": "2017-03-30T16:26:48.274188",
     "start_time": "2017-03-30T16:25:34.743193"
    },
    "collapsed": false,
    "run_control": {
     "frozen": false,
     "read_only": false
    }
   },
   "outputs": [],
   "source": [
    "user_microcat_full = create_train_matrix(train_full, item_data)"
   ]
  },
  {
   "cell_type": "code",
   "execution_count": 22,
   "metadata": {
    "ExecuteTime": {
     "end_time": "2017-03-30T16:26:48.286613",
     "start_time": "2017-03-30T16:26:48.278130"
    },
    "collapsed": false,
    "run_control": {
     "frozen": false,
     "read_only": false
    }
   },
   "outputs": [
    {
     "data": {
      "text/plain": [
       "(619615, 4732)"
      ]
     },
     "execution_count": 22,
     "metadata": {},
     "output_type": "execute_result"
    }
   ],
   "source": [
    "user_microcat_full.shape"
   ]
  },
  {
   "cell_type": "code",
   "execution_count": 23,
   "metadata": {
    "ExecuteTime": {
     "end_time": "2017-03-30T16:26:48.414098",
     "start_time": "2017-03-30T16:26:48.288337"
    },
    "collapsed": false,
    "run_control": {
     "frozen": false,
     "read_only": false
    }
   },
   "outputs": [],
   "source": [
    "test_user_ids = uid_le.transform(test_users.user_id)"
   ]
  },
  {
   "cell_type": "code",
   "execution_count": 24,
   "metadata": {
    "ExecuteTime": {
     "end_time": "2017-03-30T16:26:53.862969",
     "start_time": "2017-03-30T16:26:53.858745"
    },
    "collapsed": false,
    "run_control": {
     "frozen": false,
     "read_only": false
    }
   },
   "outputs": [
    {
     "data": {
      "text/plain": [
       "(100000,)"
      ]
     },
     "execution_count": 24,
     "metadata": {},
     "output_type": "execute_result"
    }
   ],
   "source": [
    "test_user_ids.shape"
   ]
  },
  {
   "cell_type": "code",
   "execution_count": 25,
   "metadata": {
    "ExecuteTime": {
     "end_time": "2017-03-30T16:26:56.764736",
     "start_time": "2017-03-30T16:26:56.363199"
    },
    "collapsed": false,
    "run_control": {
     "frozen": false,
     "read_only": false
    }
   },
   "outputs": [],
   "source": [
    "test_items = item_data[item_data.active_during_test==1][['item_id']]"
   ]
  },
  {
   "cell_type": "code",
   "execution_count": 26,
   "metadata": {
    "ExecuteTime": {
     "end_time": "2017-03-30T16:27:01.138495",
     "start_time": "2017-03-30T16:27:01.100351"
    },
    "collapsed": false,
    "run_control": {
     "frozen": false,
     "read_only": false
    }
   },
   "outputs": [],
   "source": [
    "nnr_full = NearestNeighborsRecommender(user_microcat_full, 21, 50, 'cosine', 100)"
   ]
  },
  {
   "cell_type": "code",
   "execution_count": 27,
   "metadata": {
    "ExecuteTime": {
     "end_time": "2017-03-30T17:07:47.884938",
     "start_time": "2017-03-30T16:27:02.578847"
    },
    "collapsed": false,
    "run_control": {
     "frozen": false,
     "read_only": false
    }
   },
   "outputs": [],
   "source": [
    "recs = nnr_full.recommend_items(test_user_ids, train_full, test_items)"
   ]
  },
  {
   "cell_type": "code",
   "execution_count": 28,
   "metadata": {
    "ExecuteTime": {
     "end_time": "2017-03-30T17:07:56.221501",
     "start_time": "2017-03-30T17:07:55.721249"
    },
    "collapsed": false,
    "run_control": {
     "frozen": false,
     "read_only": false
    }
   },
   "outputs": [],
   "source": [
    "recs.user_id = uid_le.inverse_transform(recs.user_id)"
   ]
  },
  {
   "cell_type": "code",
   "execution_count": 29,
   "metadata": {
    "ExecuteTime": {
     "end_time": "2017-03-30T17:08:05.877989",
     "start_time": "2017-03-30T17:07:56.705579"
    },
    "collapsed": false,
    "run_control": {
     "frozen": false,
     "read_only": false
    }
   },
   "outputs": [],
   "source": [
    "recs.to_csv('./data/sample_submission.csv', index=None)"
   ]
  },
  {
   "cell_type": "code",
   "execution_count": null,
   "metadata": {
    "collapsed": false,
    "run_control": {
     "frozen": false,
     "read_only": false
    }
   },
   "outputs": [],
   "source": []
  }
 ],
 "metadata": {
  "anaconda-cloud": {},
  "kernelspec": {
   "display_name": "Python [conda root]",
   "language": "python",
   "name": "conda-root-py"
  },
  "language_info": {
   "codemirror_mode": {
    "name": "ipython",
    "version": 3
   },
   "file_extension": ".py",
   "mimetype": "text/x-python",
   "name": "python",
   "nbconvert_exporter": "python",
   "pygments_lexer": "ipython3",
   "version": "3.5.3"
  },
  "nbTranslate": {
   "displayLangs": [
    "ru",
    "en"
   ],
   "hotkey": "alt-t",
   "langInMainMenu": true,
   "sourceLang": "en",
   "targetLang": "ru",
   "useGoogleTranslate": true
  },
  "toc": {
   "colors": {
    "hover_highlight": "#DAA520",
    "running_highlight": "#FF0000",
    "selected_highlight": "#FFD700"
   },
   "moveMenuLeft": true,
   "nav_menu": {
    "height": "66px",
    "width": "252px"
   },
   "navigate_menu": true,
   "number_sections": true,
   "sideBar": true,
   "threshold": 4,
   "toc_cell": false,
   "toc_section_display": "block",
   "toc_window_display": false
  }
 },
 "nbformat": 4,
 "nbformat_minor": 1
}
