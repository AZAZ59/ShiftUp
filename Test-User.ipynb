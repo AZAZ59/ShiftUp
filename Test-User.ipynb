{
 "cells": [
  {
   "cell_type": "code",
   "execution_count": 1,
   "metadata": {
    "collapsed": false
   },
   "outputs": [],
   "source": [
    "import pandas as pd\n",
    "import numpy as np\n",
    "from multiprocessing.dummy import Pool as ThreadPool\n",
    "from Utils import vkapi as vk\n",
    "\n",
    "pool = ThreadPool(450)\n",
    "DEFAULT_TOKEN = '5eed487cbd3f61ac8f53581a06906edf3fb6019cb65051b69977abac6ce7672c446a688754c34fa3b6a18'\n",
    "api = vk.API(vk.Session(access_token=DEFAULT_TOKEN))"
   ]
  },
  {
   "cell_type": "code",
   "execution_count": 2,
   "metadata": {
    "collapsed": false
   },
   "outputs": [],
   "source": [
    "def count_user_groups(uid):\n",
    "    group_list = api.groups.get(**{'user_id': uid, 'count': 100})\n",
    "    #print(group_list)\n",
    "    if group_list is None:\n",
    "        group_list = api.users.getSubscriptions(**{'user_id': uid, 'count': 1})\n",
    "        if group_list is None:\n",
    "            return dict(user=str(uid), groups=None)\n",
    "        #print(uid, group_list.get('users', {}).get('count'))\n",
    "        return dict(user=str(uid), groups=group_list.get('users', {}).get('count'))\n",
    "    #print(uid, group_list[0])\n",
    "    return dict(user=str(uid), groups=group_list[0])"
   ]
  },
  {
   "cell_type": "code",
   "execution_count": 3,
   "metadata": {
    "collapsed": true
   },
   "outputs": [],
   "source": [
    "l = 5000\n",
    "user_ids = np.random.randint(1, 41800000, l)"
   ]
  },
  {
   "cell_type": "code",
   "execution_count": null,
   "metadata": {
    "collapsed": false,
    "scrolled": true
   },
   "outputs": [],
   "source": [
    "user_groups = pd.DataFrame(\n",
    "    list(\n",
    "        pool.map(count_user_groups, user_ids)\n",
    "    )\n",
    ")\n",
    "#user_groups = user_groups.dropna()\n",
    "user_groups.to_csv('{}ug.csv'.format(len(user_ids)))"
   ]
  },
  {
   "cell_type": "code",
   "execution_count": null,
   "metadata": {
    "collapsed": false
   },
   "outputs": [],
   "source": [
    "# Python 2 and 3 compatibility\n",
    "# pip install future\n",
    "from __future__ import (absolute_import, division,\n",
    "                        print_function, unicode_literals)\n",
    "# отключим предупреждения Anaconda\n",
    "import warnings\n",
    "warnings.simplefilter('ignore')\n",
    "user_groups = user_groups.dropna()\n",
    "\n",
    "# будем отображать графики прямо в jupyter'e\n",
    "%pylab inline\n",
    "import seaborn as sns\n",
    "\n",
    "\n",
    "sns.distplot(user_groups.groups)"
   ]
  },
  {
   "cell_type": "code",
   "execution_count": null,
   "metadata": {
    "collapsed": false
   },
   "outputs": [],
   "source": [
    "'Mean',user_groups.groups.mean(), 'Std', user_groups.groups.std(), 'Var',user_groups.groups.var()"
   ]
  },
  {
   "cell_type": "code",
   "execution_count": null,
   "metadata": {
    "collapsed": false
   },
   "outputs": [],
   "source": [
    "import matplotlib.pyplot as plt\n",
    "fig=plt.figure()\n",
    "plt.hist(user_groups.groups)"
   ]
  },
  {
   "cell_type": "code",
   "execution_count": null,
   "metadata": {
    "collapsed": false
   },
   "outputs": [],
   "source": [
    "zero_g = [c for c in user_groups.groups if c==0]\n",
    "m = user_groups.groups.max()\n",
    "max_g = [c for c in user_groups.groups if c==m]\n",
    "l = [c for c in user_groups.groups if c>=385]\n",
    "round(len(zero_g)/len(user_groups.groups)*100, 2), round(len(max_g)/len(user_groups.groups)*100, 2), round(len(l)/len(user_groups.groups)*100, 2)"
   ]
  },
  {
   "cell_type": "code",
   "execution_count": null,
   "metadata": {
    "collapsed": false
   },
   "outputs": [],
   "source": [
    "cols=['user', 'groups']\n",
    "#user_groups = pd.read_csv('1000ug.csv')\n",
    "sns_plot = sns.jointplot(x=\"user\", y=\"groups\", data=user_groups)\n",
    "sns_plot.savefig('pairplot.png')\n",
    "user_groups[cols].plot()"
   ]
  },
  {
   "cell_type": "code",
   "execution_count": null,
   "metadata": {
    "collapsed": false
   },
   "outputs": [],
   "source": [
    "df = user_groups[user_groups.groups > 0]#[user_groups.groups < 200]\n",
    "sns_plot = sns.jointplot(x=\"user\", y=\"groups\", data=df, kind=\"kde\", space=0, color=\"g\")\n",
    "sns_plot.savefig('pairplot_without_zero.png')"
   ]
  },
  {
   "cell_type": "code",
   "execution_count": null,
   "metadata": {
    "collapsed": false
   },
   "outputs": [],
   "source": [
    "user_groups[user_groups.groups >= 380]"
   ]
  }
 ],
 "metadata": {
  "kernelspec": {
   "display_name": "Python [Root]",
   "language": "python",
   "name": "Python [Root]"
  },
  "language_info": {
   "codemirror_mode": {
    "name": "ipython",
    "version": 3
   },
   "file_extension": ".py",
   "mimetype": "text/x-python",
   "name": "python",
   "nbconvert_exporter": "python",
   "pygments_lexer": "ipython3",
   "version": "3.5.2"
  }
 },
 "nbformat": 4,
 "nbformat_minor": 0
}
