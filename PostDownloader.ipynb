{
 "cells": [
  {
   "cell_type": "code",
   "execution_count": 1,
   "metadata": {
    "ExecuteTime": {
     "end_time": "2017-03-26T06:43:54.306692Z",
     "start_time": "2017-03-26T10:43:53.257920+04:00"
    },
    "cell_style": "center",
    "collapsed": false,
    "run_control": {
     "frozen": false,
     "read_only": false
    }
   },
   "outputs": [],
   "source": [
    "import pandas as pd\n",
    "import datetime\n",
    "from Utils import vkapi as vk\n",
    "import numpy as np\n",
    "from multiprocessing.dummy import Pool as ThreadPool\n",
    "import time\n",
    "import logging\n",
    "LOG_FILENAME = 'PostGrab.log'\n",
    "# Add the log message handler to the logger\n",
    "logger = logging.getLogger('Grabber')\n",
    "logger.setLevel(logging.DEBUG)\n",
    "\n",
    "formatter=logging.Formatter('%(levelname)-8s [%(asctime)s] (%(module)s : %(funcName)s) %(message)s')\n",
    "handler = logging.handlers.RotatingFileHandler(LOG_FILENAME, maxBytes=100*2**10, backupCount=5)\n",
    "handler.setFormatter(formatter)\n",
    "\n",
    "logger.addHandler(handler)\n",
    "# logging.basicConfig(filename='PostGrab.log',format='%(levelname)-8s [%(asctime)s] (%(module)s : %(funcName)s) %(message)s',level=logging.INFO)\n",
    "logger.info(\"application started\")"
   ]
  },
  {
   "cell_type": "code",
   "execution_count": 2,
   "metadata": {
    "ExecuteTime": {
     "end_time": "2017-03-26T06:43:54.330708Z",
     "start_time": "2017-03-26T10:43:54.309121+04:00"
    },
    "collapsed": false,
    "run_control": {
     "frozen": false,
     "read_only": false
    }
   },
   "outputs": [],
   "source": [
    "def __worker__(owner_id, api, pool, count=100):\n",
    "    posts_list = api.wall.get(**{'owner_id': owner_id, 'count': 100})\n",
    "    if posts_list is None:\n",
    "        return pd.DataFrame()\n",
    "    count = posts_list[0]\n",
    "    posts_list = pd.DataFrame(posts_list[1:])\n",
    "    if count <= 100:\n",
    "        return posts_list\n",
    "    return posts_list.append(pool.map(lambda param: pd.DataFrame(api.wall.get(**param)[1:]), [\n",
    "        {'owner_id': owner_id, 'count': 100 if count >= 100 else count, 'offset': offset}\n",
    "        for offset in range(100, count, 100)\n",
    "        ]), ignore_index=True)\n",
    "def get_posts(owner_ids: list, pool, count=None, token=None):\n",
    "    \"\"\"Сбор постов\"\"\"\n",
    "    api = vk.API((vk.Session(access_token=token) if token else vk.Session()))\n",
    "    return pd.DataFrame().append(\n",
    "        list(\n",
    "            pool.map(\n",
    "                lambda owner_id: __worker__(owner_id, api, pool, int(count) if count else count),\n",
    "                owner_ids\n",
    "            )\n",
    "        )\n",
    "        ,ignore_index=True\n",
    "    )"
   ]
  },
  {
   "cell_type": "code",
   "execution_count": null,
   "metadata": {
    "ExecuteTime": {
     "start_time": "2017-03-26T06:43:58.771Z"
    },
    "code_folding": [],
    "collapsed": false,
    "run_control": {
     "frozen": false,
     "read_only": false
    }
   },
   "outputs": [],
   "source": [
    "while True:\n",
    "    with ThreadPool(450) as pool:\n",
    "        l=get_posts(np.random.randint(1, 132000000, 100), pool)\n",
    "        texts=l[l['text']!=0]['text']\n",
    "        today=time.localtime()\n",
    "        logger.info(\"len:{}\".format(len(texts)))\n",
    "        \n",
    "        with open('./csv/posts_{}-{}-{}.csv'.format(today[2],today[1],today[0]), 'a') as f:\n",
    "            texts.to_csv(f, index=False)"
   ]
  },
  {
   "cell_type": "code",
   "execution_count": null,
   "metadata": {
    "collapsed": false,
    "run_control": {
     "frozen": false,
     "read_only": false
    }
   },
   "outputs": [],
   "source": []
  }
 ],
 "metadata": {
  "anaconda-cloud": {},
  "kernelspec": {
   "display_name": "Python [conda root]",
   "language": "python",
   "name": "conda-root-py"
  },
  "language_info": {
   "codemirror_mode": {
    "name": "ipython",
    "version": 3
   },
   "file_extension": ".py",
   "mimetype": "text/x-python",
   "name": "python",
   "nbconvert_exporter": "python",
   "pygments_lexer": "ipython3",
   "version": "3.5.3"
  },
  "nbTranslate": {
   "displayLangs": [
    "ru",
    "en"
   ],
   "hotkey": "alt-t",
   "langInMainMenu": true,
   "sourceLang": "en",
   "targetLang": "ru",
   "useGoogleTranslate": true
  }
 },
 "nbformat": 4,
 "nbformat_minor": 2
}
